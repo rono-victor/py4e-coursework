{
 "cells": [
  {
   "attachments": {},
   "cell_type": "markdown",
   "metadata": {},
   "source": [
    "CHAPTER 1"
   ]
  },
  {
   "attachments": {},
   "cell_type": "markdown",
   "metadata": {},
   "source": [
    "#Introduction"
   ]
  },
  {
   "attachments": {},
   "cell_type": "markdown",
   "metadata": {},
   "source": [
    "Exercise 1: What is the function of the secondary memory in a computer?\n",
    "\n",
    "\n",
    "Ans = Store information for the long term, even beyond a power cycle\n",
    "\n"
   ]
  },
  {
   "attachments": {},
   "cell_type": "markdown",
   "metadata": {},
   "source": [
    "Exercise 2: What is a program?\n",
    "\n",
    "It is a set of instructions that have been written for a computer to follow to perfom a given task(s)"
   ]
  },
  {
   "attachments": {},
   "cell_type": "markdown",
   "metadata": {},
   "source": [
    "Exercise 3: What is the difference between a compiler and an interpreter?\n",
    "\n",
    "\n",
    "A compiler is a translator that converts source code of a program written in high-level languages to machine language for execution by the CPU. It transaltes the entire source code of the program into machine language and puts the resulting machine language into a file for later execution that is independent of the compiler. whereas an Interpreter reads the source code of the program as written by the programer in the high-level language and  processes it line by line into machine code as it is executed"
   ]
  },
  {
   "attachments": {},
   "cell_type": "markdown",
   "metadata": {},
   "source": [
    "Exercise 4: Which of the following contains “machine code”?\n",
    "a) The Python interpreter\n"
   ]
  },
  {
   "attachments": {},
   "cell_type": "markdown",
   "metadata": {},
   "source": [
    "Exercise 5: What is wrong with the following code:\n",
    "1.14. EXERCISES 17\n",
    ">>> primt 'Hello world!'\n",
    "File \"<stdin>\", line 1\n",
    "primt 'Hello world!'\n",
    "^\n",
    "SyntaxError: invalid syntax\n",
    ">>>\n",
    "\n",
    "\n",
    "Ans = The function print()  is misspelled it has been written primt instead of print"
   ]
  },
  {
   "attachments": {},
   "cell_type": "markdown",
   "metadata": {},
   "source": [
    "Exercise 6: Where in the computer is a variable such as “x” stored after\n",
    "the following Python line finishes?\n",
    "x = 123\n",
    "\n",
    "b) Main Memory\n",
    "\n"
   ]
  },
  {
   "attachments": {},
   "cell_type": "markdown",
   "metadata": {},
   "source": [
    "Exercise 7: What will the following program print out:\n",
    "x = 43\n",
    "x = x - 1\n",
    "print(x)\n",
    "\n",
    "b) 42\n"
   ]
  },
  {
   "attachments": {},
   "cell_type": "markdown",
   "metadata": {},
   "source": [
    "Exercise 8: Explain each of the following using an example of a human capability: \n",
    "(1) Central processing unit\n",
    "(2) Main Memory\n",
    "(3) Secondary Memory\n",
    "(4) Input Device\n",
    "(5) Output Device\n",
    " \n",
    "Central Processing Unit (CPU): This  is the main processing component of a computer which is responsible for performing arithmetic and logical operations and executing instructions stored in memory. The human brain can be thought of as the equaivalent of a computer CPU as it processes information and controls the functions of the body.\n",
    "\n",
    "Main Memory (RAM): Random Access Memory is the main memory of a computer that stores data and instructions that the CPU needs to access quickly. Its contents are lost when the computer is turned off. The human equivalent to main memory could be working memory, which is a part of short-term memory that temporarily stores information that is currently being processed.\n",
    "\n",
    "Secondary Memory (Storage): The secondary memory is the non-volatile memory in a computer used for long-term storage of data and programs. This include hard drives (HDD), solid-state drives (SSD) and USB flash drives. The human equivalent to secondary memory could be the long-term memory, which stores memories and knowledge that are retained over a longer period of time.\n",
    "\n",
    "Input Device: This is any device that is used to provide data or instructions to a computer. These include keyboards, mice, scanners, cameras and microphones. The human equivalent to an input device could be the senses (eyes for sight detection, ears for sound detection, tongue for taste detection,nose for smell detection & skin for touch detection), which provide information to the brain for processing"
   ]
  },
  {
   "attachments": {},
   "cell_type": "markdown",
   "metadata": {},
   "source": [
    "Exercise 9: How do you fix a “Syntax Error”?\n",
    "\n",
    "\n",
    "Solution: \n",
    "\n",
    "A \"Syntax Error\" is an error that occurs when the syntax of the code violates the rules of the programming language. The code may contain a typo, misspelled word orincorrect punctuation.\n",
    "\n",
    "To fix a Syntax Error, you need to locate the line of code where the error occurred and identify the mistake. Oftenly this mistake could be forgetting to close parentheses, forgetting a colon or a comma, misspelling a function or variable name or using the wrong operator.\n",
    "\n",
    "Once you have idetified the mistake, correct it and save the changes to the code. Then, try running the code again to see if the Syntax Error has been resolved.\n",
    "\n"
   ]
  },
  {
   "attachments": {},
   "cell_type": "markdown",
   "metadata": {},
   "source": [
    "CHAPTER 2"
   ]
  },
  {
   "attachments": {},
   "cell_type": "markdown",
   "metadata": {},
   "source": [
    "#Variables, Expressions and Statements"
   ]
  },
  {
   "attachments": {},
   "cell_type": "markdown",
   "metadata": {},
   "source": [
    "\n",
    "\n",
    "PEMDAS = order of operations (Parenthesis, Exponentiation, Multiplication, Division, Addition & Subraction)\n",
    "Multiplication and division have the same precedence so as addition and subtraction; they are evaluated from left to right."
   ]
  },
  {
   "cell_type": "code",
   "execution_count": 1,
   "metadata": {},
   "outputs": [
    {
     "name": "stdout",
     "output_type": "stream",
     "text": [
      "Welcome Rono\n"
     ]
    }
   ],
   "source": [
    "#Exercise 2: Write a program that uses input to prompt a user for their name and then welcomes them.\n",
    "name = input('Enter your name:') #The input() function, haults the execution of the program and takes input from the user\n",
    "print('Welcome', name)\n"
   ]
  },
  {
   "cell_type": "code",
   "execution_count": 4,
   "metadata": {},
   "outputs": [
    {
     "name": "stdout",
     "output_type": "stream",
     "text": [
      "96.25\n"
     ]
    }
   ],
   "source": [
    "#Exercise 3: Write a program to prompt the user for hours and rate per hour to compute gross pay.\n",
    "\n",
    "hours = int(input('Enter the number of hours worked:'))  #int(input()) function allows you to modify the input to be only integer values\n",
    "rate = float(input('Enter the rate per hour:'))  #float(input()) allows you to modify input to be of type float\n",
    "gross_pay = hours * rate #gross pay is a function of hours worked and the pay rate per hour\n",
    "print(gross_pay)"
   ]
  },
  {
   "cell_type": "code",
   "execution_count": 9,
   "metadata": {},
   "outputs": [
    {
     "data": {
      "text/plain": [
       "11"
      ]
     },
     "execution_count": 9,
     "metadata": {},
     "output_type": "execute_result"
    }
   ],
   "source": [
    "#Exercise 4: Assume that we execute the following assignment statements:\n",
    "#For each of the following expressions, write the value of the expression and the type(of the value of the expression).\n",
    "\n",
    "width = 17\n",
    "height = 12.0\n",
    "\n",
    "width//2  # returns the quotient which is 8\n",
    "width/2.0 # performs the normal division\n",
    "height/3 # performs the normal division\n",
    "1 + 2 * 5 # PEMDAS order of operations is employed here.\n"
   ]
  },
  {
   "cell_type": "code",
   "execution_count": 2,
   "metadata": {},
   "outputs": [
    {
     "name": "stdout",
     "output_type": "stream",
     "text": [
      "The temperature in fahrenheit is: 98.60000000000001\n"
     ]
    }
   ],
   "source": [
    "#Exercise 5: Write a program which prompts the user for a Celsius temperature, convert the temperature to Fahrenheit, and print out the converted temperature.\n",
    "\n",
    "#tempreture converter\n",
    "celcius_temperature = float(input('Enter the temperature in celcius:')) #prompts the user to inputthe temperature in degree celcius\n",
    "fahrenheit_temperature = (celcius_temperature * 1.8) + 32  #performs the mathematical conversion of the temperature in degree celcius to farenheit\n",
    "print('The temperature in fahrenheit is:', fahrenheit_temperature)  #returns the output temperature in farenheit"
   ]
  },
  {
   "attachments": {},
   "cell_type": "markdown",
   "metadata": {},
   "source": [
    "CHAPTER 3"
   ]
  },
  {
   "attachments": {},
   "cell_type": "markdown",
   "metadata": {},
   "source": [
    "Conditional Execution"
   ]
  },
  {
   "cell_type": "code",
   "execution_count": 13,
   "metadata": {},
   "outputs": [
    {
     "name": "stdout",
     "output_type": "stream",
     "text": [
      "400.0\n"
     ]
    }
   ],
   "source": [
    "#Exercise 1: Rewrite your pay computation to give the employee 1.5 times the hourly rate for hours worked above 40 hours.\n",
    "#This program calculates gross pay of a worker given the condition that for any hours worked beyond the normal 40 hours, \n",
    "#they receive 1.5 times as much as the normal per hour pay rate\n",
    "\n",
    "\n",
    "hours = int(input('Enter the number of hours worked:'))\n",
    "rate = float(input('Enter the rate per hour:'))\n",
    "if hours <= 40:\n",
    "    gross_pay = hours * rate\n",
    "else:\n",
    "    gross_pay = 40 * rate + (hours - 40) * rate * 1.5\n",
    "print(gross_pay)\n",
    "\n",
    "\n"
   ]
  },
  {
   "cell_type": "code",
   "execution_count": 3,
   "metadata": {},
   "outputs": [
    {
     "name": "stdout",
     "output_type": "stream",
     "text": [
      "Error! Enter numeric values\n"
     ]
    }
   ],
   "source": [
    "#Exercise 2: Rewrite your pay program using try and except so that your program handles non-numeric input gracefully by printing a message and exiting the program.\n",
    "\n",
    "#Catching execptions using try and except\n",
    "#if you anticipate a traceback error on a set of code, use try and except to handle the errors.\n",
    "#unless an error is encountered on the try block, code under the except block will never be executed.\n",
    "# for instance if the user inputs characters instead of a numeric value for hours, it will result in an error and code under except block will be executed. \n",
    "\n",
    "try:\n",
    "    hours = int(input('Enter the number of hours worked:'))\n",
    "    rate = float(input('Enter the rate per hour:'))\n",
    "    if hours <= 40:\n",
    "        gross_pay = hours * rate\n",
    "    else:\n",
    "        gross_pay = 40 * rate + (hours - 40) * rate * 1.5\n",
    "    print(gross_pay)\n",
    "except:\n",
    "    print('Error! Enter numeric values')\n"
   ]
  },
  {
   "cell_type": "code",
   "execution_count": 2,
   "metadata": {},
   "outputs": [
    {
     "name": "stdout",
     "output_type": "stream",
     "text": [
      "Bad Score\n"
     ]
    }
   ],
   "source": [
    "#Exercise 3: Write a program to prompt for a score between 0.0 and 1.0. If the score is out of range, print an error message. If the score is\n",
    "#between 0.0 and 1.0, print a grade using the following table:\n",
    "#Score Grade\n",
    "#>= 0.9 A\n",
    "#>= 0.8 B\n",
    "#>= 0.7 C\n",
    "#>= 0.6 D\n",
    "#< 0.6 \n",
    "\n",
    "#This is a grading system program, where the range of grades are as given in the table above.\n",
    "#If the score is out of range we catch the exception using the try statement\n",
    "try:\n",
    "    score = float(input(\"Enter score:\"))\n",
    "    if score > 1:\n",
    "        print(\"Bad score\")\n",
    "    elif score >= 0.9:\n",
    "        print(\"Grade A\")\n",
    "    elif score >= 0.8:\n",
    "        print(\"Grade B\")\n",
    "    elif score >= 0.7:\n",
    "        print(\"Grade C\")\n",
    "    elif score >= 0.6:\n",
    "        print(\"Grade D\")\n",
    "    elif score >= 0.5:\n",
    "        print(\"Grade E\")\n",
    "    elif score < 0.5:\n",
    "        print(\"Grade F\")\n",
    "except:\n",
    "    print(\"Bad Score\")\n"
   ]
  }
 ],
 "metadata": {
  "kernelspec": {
   "display_name": "py4e",
   "language": "python",
   "name": "python3"
  },
  "language_info": {
   "codemirror_mode": {
    "name": "ipython",
    "version": 3
   },
   "file_extension": ".py",
   "mimetype": "text/x-python",
   "name": "python",
   "nbconvert_exporter": "python",
   "pygments_lexer": "ipython3",
   "version": "3.9.13"
  },
  "orig_nbformat": 4
 },
 "nbformat": 4,
 "nbformat_minor": 2
}
