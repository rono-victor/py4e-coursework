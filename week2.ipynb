{
 "cells": [
  {
   "attachments": {},
   "cell_type": "markdown",
   "metadata": {},
   "source": [
    "CHAPTER 4\n",
    "\n",
    "\n",
    "\n",
    "#FUNCTIONS"
   ]
  },
  {
   "attachments": {},
   "cell_type": "markdown",
   "metadata": {},
   "source": [
    "Function: sequence of statements that performs a computation.\n",
    "When you define a function specify the name and the sequence of statements\n",
    "Argument = value/variable that you pass into the function as input.\n",
    "        .Built-in functions\n",
    "        .User-defined functions\n",
    "        defining a function creates a variable with the same name.\n",
    "    \n",
    "#Why functions:\n",
    "        .Helps you create a group of statements which makes your program easier to read, understand and debug.\n",
    "        .Makes a program smaller by eliinating repetitive code."
   ]
  },
  {
   "cell_type": "code",
   "execution_count": null,
   "metadata": {},
   "outputs": [],
   "source": [
    "\n",
    "#the program uses the random() function to produce a list of 10 random numbers between 0.0 and up to but not including 1.0\n",
    "import random\n",
    "for i in range(10):\n",
    "    x = random.random()\n",
    "    print (x)"
   ]
  },
  {
   "cell_type": "code",
   "execution_count": 8,
   "metadata": {},
   "outputs": [
    {
     "data": {
      "text/plain": [
       "8"
      ]
     },
     "execution_count": 8,
     "metadata": {},
     "output_type": "execute_result"
    }
   ],
   "source": [
    "#randint() takes the parameters low and high and returns an integer between the two inclusive\n",
    "random.randint(1,13)"
   ]
  },
  {
   "cell_type": "code",
   "execution_count": 12,
   "metadata": {},
   "outputs": [
    {
     "data": {
      "text/plain": [
       "2"
      ]
     },
     "execution_count": 12,
     "metadata": {},
     "output_type": "execute_result"
    }
   ],
   "source": [
    "#to choose an element from a sequence at random use:\n",
    "r = [0,1,2,3,8,11,12]\n",
    "random.choice(r)"
   ]
  },
  {
   "cell_type": "code",
   "execution_count": 19,
   "metadata": {},
   "outputs": [
    {
     "name": "stdout",
     "output_type": "stream",
     "text": [
      "10\n"
     ]
    }
   ],
   "source": [
    "#simple function that adds two integers\n",
    "def sum2(a,b):\n",
    "    add = a + b\n",
    "    return add\n",
    "x = sum2(2,8)\n",
    "print(x)\n"
   ]
  },
  {
   "attachments": {},
   "cell_type": "markdown",
   "metadata": {},
   "source": [
    "EXERCISES"
   ]
  },
  {
   "cell_type": "code",
   "execution_count": null,
   "metadata": {},
   "outputs": [],
   "source": [
    "#Exercise 4\n",
    "#What is the purpose of the “def” keyword in Python?\n",
    "#solution = Choices b and c are both true\n",
    "    #b) It indicates the start of a function\n",
    "    #c) It indicates that the following indented section of code is to be stored for later use\n",
    "\n"
   ]
  },
  {
   "cell_type": "code",
   "execution_count": 28,
   "metadata": {},
   "outputs": [
    {
     "name": "stdout",
     "output_type": "stream",
     "text": [
      "ABC\n",
      "Zap\n",
      "ABC\n"
     ]
    }
   ],
   "source": [
    "#Exercise 5: What will the following Python program print out?\n",
    "def fred():\n",
    "    print(\"Zap\")\n",
    "def jane():\n",
    "    print(\"ABC\")\n",
    "\n",
    "jane()\n",
    "fred()\n",
    "jane()\n",
    "\n",
    "#solution: The program prints out [d) ABC Zap ABC]"
   ]
  },
  {
   "cell_type": "code",
   "execution_count": 21,
   "metadata": {},
   "outputs": [
    {
     "name": "stdout",
     "output_type": "stream",
     "text": [
      "Pay: 475.0\n"
     ]
    }
   ],
   "source": [
    "#Exercise 6: Rewrite your pay computation with time-and-a-half for overtime and create a function called computepay which takes two parameters\n",
    "#(hours and rate).\n",
    "#Enter Hours: 45\n",
    "#Enter Rate: 10\n",
    "#Pay: 475.0\n",
    "def computepay(hours,rate): #defines the function computepay that calculates gross pay given hours worked and amount per hour\n",
    "    if hours <= 40:\n",
    "        pay = hours * rate\n",
    "    elif hours > 40:\n",
    "        pay = (40 * rate) + (hours - 40) * (rate * 1.5) #condition that considers overtime work; rate higher\n",
    "    print('Pay:',pay)\n",
    "hours  = float(input('Enter the number of hours worked:')) #prompt the user to feed in hours worked and converts to a float value\n",
    "rate  = float(input('Enter the rate per hour:')) #prompt the user to feed in the rate per hour and convert to a float value\n",
    "computepay(hours, rate)\n",
    "\n",
    "    \n",
    "\n",
    "\n"
   ]
  },
  {
   "cell_type": "code",
   "execution_count": 11,
   "metadata": {},
   "outputs": [
    {
     "name": "stdout",
     "output_type": "stream",
     "text": [
      "Bad score\n"
     ]
    }
   ],
   "source": [
    "#Exercise 7: Rewrite the grade program from the previous chapter using\n",
    "#a function called computegrade that takes a score as its parameter and\n",
    "#returns a grade as a string.\n",
    "#Score Grade\n",
    "#>= 0.9 A\n",
    "#>= 0.8 B\n",
    "#>= 0.7 C\n",
    "#>= 0.6 D\n",
    "#< 0.6 \n",
    "def computegrade(score):\n",
    "\n",
    "    try: #\n",
    "        score = float(score)\n",
    "        if score > 1:\n",
    "            print(\"Bad score\")\n",
    "        elif score >= 0.9:\n",
    "            print(\"Grade A\")\n",
    "        elif score >= 0.8:\n",
    "            print(\"Grade B\")\n",
    "        elif score >= 0.7:\n",
    "            print(\"Grade C\")\n",
    "        elif score >= 0.6:\n",
    "            print(\"Grade D\")\n",
    "        elif score >= 0.5:\n",
    "            print(\"Grade E\")\n",
    "        elif score < 0.5:\n",
    "            print(\"Grade F\")\n",
    "        else: \n",
    "            print(\"Bad Score\")\n",
    "    except:\n",
    "        print(\"Bad score\")\n",
    "score = input(\"Enter score:\") #takes score input from the user\n",
    "computegrade(score)\n"
   ]
  },
  {
   "attachments": {},
   "cell_type": "markdown",
   "metadata": {},
   "source": [
    "CHAPTER 5\n",
    "\n",
    "\n",
    "#ITERATION"
   ]
  },
  {
   "cell_type": "code",
   "execution_count": 3,
   "metadata": {},
   "outputs": [
    {
     "name": "stdout",
     "output_type": "stream",
     "text": [
      "5\n",
      "4\n",
      "3\n",
      "2\n",
      "1\n",
      "0\n",
      "Blastoff!!\n"
     ]
    }
   ],
   "source": [
    "#THE WHILE STATEMENT\n",
    "#time to rocket launch counter\n",
    "x = 6\n",
    "while x > 0:\n",
    "    x = x-1\n",
    "    print(x)\n",
    "print('Blastoff!!')"
   ]
  },
  {
   "cell_type": "code",
   "execution_count": 12,
   "metadata": {},
   "outputs": [
    {
     "name": "stdout",
     "output_type": "stream",
     "text": [
      "j\n",
      "z\n",
      "3\n",
      "Done!\n"
     ]
    }
   ],
   "source": [
    "#continuously takes input until \"done\" is entered\n",
    "while True:\n",
    "    line = input(':')\n",
    "    if line == 'done':\n",
    "        break\n",
    "    print(line)\n",
    "print ('Done!')"
   ]
  },
  {
   "cell_type": "code",
   "execution_count": 16,
   "metadata": {},
   "outputs": [
    {
     "name": "stdout",
     "output_type": "stream",
     "text": [
      "hello\n",
      "Done\n",
      "2\n",
      "Done\n",
      "cool\n",
      "Done\n",
      "cool\n",
      "Done\n"
     ]
    }
   ],
   "source": [
    "#not only copies user's input until \"done\" is entered, but also ignores inputs that start with \"#\"\n",
    "while True:\n",
    "    line =input('>')\n",
    "    if line[0] == '#':\n",
    "        continue\n",
    "    if line == 'done':\n",
    "        break\n",
    "    print(line)\n",
    "    print('Done')"
   ]
  },
  {
   "cell_type": "code",
   "execution_count": 15,
   "metadata": {},
   "outputs": [
    {
     "name": "stdout",
     "output_type": "stream",
     "text": [
      "hello: python\n",
      "hello: arduino\n",
      "hello: circuit\n",
      "that's all\n"
     ]
    }
   ],
   "source": [
    "#looping through a list and executing the body once for each of the string in the list\n",
    "friends = ['python', 'arduino', 'circuit']\n",
    "for friend in friends: #'friend = iteration variable for the loop\n",
    "    print(\"hello:\", friend)\n",
    "print(\"that's all\")"
   ]
  },
  {
   "cell_type": "code",
   "execution_count": 11,
   "metadata": {},
   "outputs": [
    {
     "name": "stdout",
     "output_type": "stream",
     "text": [
      "Count: 16\n"
     ]
    }
   ],
   "source": [
    "#counts the number of items in the list\n",
    "count = 0\n",
    "for var in [3,5,45,23,36,1,2,2,8,5,5,6,2,6,8]:\n",
    "    count = count + 1\n",
    "print ('Count:',count)\n"
   ]
  },
  {
   "cell_type": "code",
   "execution_count": 13,
   "metadata": {},
   "outputs": [
    {
     "name": "stdout",
     "output_type": "stream",
     "text": [
      "Total:  158\n"
     ]
    }
   ],
   "source": [
    "#yields total/summation of items in the list\n",
    "#total accumulates the sum of the elements.\n",
    "total = 0\n",
    "for var in [3,5,45,23,36,1,2,2,8,5,5,6,2,6,8]:\n",
    "    total = total + var\n",
    "print('Total: ', total)"
   ]
  },
  {
   "cell_type": "code",
   "execution_count": null,
   "metadata": {},
   "outputs": [],
   "source": [
    "#Maximum and Minimum loops\n",
    "#finds the largest value in a list or sequence\n",
    "largest = None #None= special const value, we can store in a variable to mark the variable as 'empty'\n",
    "print('Before:', largest)\n",
    "for var in [3, 5, 45, 23, 36, 1, 2, 2, 8, 5, 5, 6, 2, 6, 8]:\n",
    "    if largest is None or var> largest:\n",
    "        largest = var\n",
    "    print('loop:', var, largest)\n",
    "print('largest:', largest)\n"
   ]
  },
  {
   "cell_type": "code",
   "execution_count": 29,
   "metadata": {},
   "outputs": [
    {
     "name": "stdout",
     "output_type": "stream",
     "text": [
      "Enter a valid number\n",
      "Enter a valid number\n",
      "count: 4\n",
      "total: 20\n",
      "average: 5.0\n"
     ]
    }
   ],
   "source": [
    "#Exercise 1: Write a program which repeatedly reads numbers until the\n",
    "#user enters “done”. Once “done” is entered, print out the total, count,\n",
    "#and average of the numbers. If the user enters anything other than a\n",
    "#number, detect their mistake using try and except and print an error\n",
    "#message and skip to the next number.\n",
    "\n",
    "count = 0\n",
    "total = 0\n",
    "while True:\n",
    "\n",
    "    try:\n",
    "        num = input(\"Enter a number or 'done' to exit:\")\n",
    "        if num == 'done':\n",
    "            break\n",
    "        num = int(num)\n",
    "        count = count + 1\n",
    "        total = total + num\n",
    "        average = total / count\n",
    "    except:\n",
    "        print(\"Enter a valid number\")\n",
    "print(\"count:\", count)\n",
    "print(\"total:\", total)\n",
    "print(\"average:\", average)\n",
    "\n"
   ]
  },
  {
   "cell_type": "code",
   "execution_count": 3,
   "metadata": {},
   "outputs": [
    {
     "name": "stdout",
     "output_type": "stream",
     "text": [
      "Maximum before: None\n",
      "Minimum before: None\n",
      "Maximum: 8\n",
      "Minimum: 2\n"
     ]
    }
   ],
   "source": [
    "#Exercise 2: Write another program that prompts for a list of numbers as above and at the end prints out both the maximum and minimum of \n",
    "#the numbers instead of the average.\n",
    "largest = None\n",
    "smallest = None\n",
    "\n",
    "\n",
    "try:\n",
    "    print('Maximum before:', largest)\n",
    "    print('Minimum before:', smallest)\n",
    "    while True:\n",
    "        \n",
    "        number = input(\"Enter a number or 'done' when done:\")\n",
    "        if number == 'done':\n",
    "            break\n",
    "        for num in number:\n",
    "            if largest is None or num>largest:\n",
    "                largest = num\n",
    "            if smallest is None or num < smallest:\n",
    "                smallest = num\n",
    "        \n",
    "    #print(\"Maximum:\", largest)\n",
    "    #print ('Minimum:', smallest)\n",
    "except:\n",
    "    print(\"Invalid input\")\n",
    "\n",
    "print(\"Maximum:\", largest)\n",
    "print('Minimum:', smallest)\n"
   ]
  },
  {
   "attachments": {},
   "cell_type": "markdown",
   "metadata": {},
   "source": [
    "CHAPTER 6\n",
    "\n",
    "\n",
    "#STRINGS"
   ]
  },
  {
   "attachments": {},
   "cell_type": "markdown",
   "metadata": {},
   "source": [
    "A string is a sequence of characters, you can access the characters one at a time with the bracket operator.\n",
    "\n",
    "Strings are immutable, meaning you can't change an existing string. You may only create a new string that is a variation of the original."
   ]
  },
  {
   "attachments": {},
   "cell_type": "markdown",
   "metadata": {},
   "source": [
    "#String traversal"
   ]
  },
  {
   "cell_type": "code",
   "execution_count": 56,
   "metadata": {},
   "outputs": [
    {
     "name": "stdout",
     "output_type": "stream",
     "text": [
      "a\n"
     ]
    }
   ],
   "source": [
    "fruit = 'banana'\n",
    "len(fruit) #returns the number of characters in the string\n",
    "fruit[4] #print the character index 3\n",
    "print(fruit[5]) #prints the character index 4\n",
    "fruit[-1]# counts backwards"
   ]
  },
  {
   "cell_type": "code",
   "execution_count": 58,
   "metadata": {},
   "outputs": [
    {
     "name": "stdout",
     "output_type": "stream",
     "text": [
      "b\n",
      "a\n",
      "n\n",
      "a\n",
      "n\n",
      "a\n"
     ]
    }
   ],
   "source": [
    "#traverse the string and display each letter on a line by itself\n",
    "index = 0\n",
    "while index < len(fruit):\n",
    "    letter = fruit[index]\n",
    "    print(letter)\n",
    "    index = index + 1"
   ]
  },
  {
   "cell_type": "code",
   "execution_count": 72,
   "metadata": {},
   "outputs": [
    {
     "name": "stdout",
     "output_type": "stream",
     "text": [
      "b\n",
      "a\n",
      "n\n",
      "a\n",
      "n\n",
      "a\n"
     ]
    }
   ],
   "source": [
    "#another way of string traversal\n",
    "for char in fruit:\n",
    "    print(char)"
   ]
  },
  {
   "cell_type": "code",
   "execution_count": 70,
   "metadata": {},
   "outputs": [
    {
     "name": "stdout",
     "output_type": "stream",
     "text": [
      "a\n",
      "n\n",
      "a\n",
      "n\n",
      "a\n",
      "b\n"
     ]
    },
    {
     "ename": "IndexError",
     "evalue": "string index out of range",
     "output_type": "error",
     "traceback": [
      "\u001b[1;31m---------------------------------------------------------------------------\u001b[0m",
      "\u001b[1;31mIndexError\u001b[0m                                Traceback (most recent call last)",
      "\u001b[1;32m~\\AppData\\Local\\Temp\\ipykernel_116\\273318301.py\u001b[0m in \u001b[0;36m<module>\u001b[1;34m\u001b[0m\n\u001b[0;32m      4\u001b[0m \u001b[0mindex\u001b[0m \u001b[1;33m=\u001b[0m \u001b[1;33m-\u001b[0m\u001b[1;36m1\u001b[0m\u001b[1;33m\u001b[0m\u001b[1;33m\u001b[0m\u001b[0m\n\u001b[0;32m      5\u001b[0m \u001b[1;32mwhile\u001b[0m \u001b[0mindex\u001b[0m \u001b[1;33m<\u001b[0m \u001b[0mlen\u001b[0m\u001b[1;33m(\u001b[0m\u001b[0mfruit\u001b[0m\u001b[1;33m)\u001b[0m\u001b[1;33m:\u001b[0m\u001b[1;33m\u001b[0m\u001b[1;33m\u001b[0m\u001b[0m\n\u001b[1;32m----> 6\u001b[1;33m     \u001b[0mletter\u001b[0m \u001b[1;33m=\u001b[0m \u001b[0mfruit\u001b[0m\u001b[1;33m[\u001b[0m\u001b[0mindex\u001b[0m\u001b[1;33m]\u001b[0m\u001b[1;33m\u001b[0m\u001b[1;33m\u001b[0m\u001b[0m\n\u001b[0m\u001b[0;32m      7\u001b[0m     \u001b[0mprint\u001b[0m\u001b[1;33m(\u001b[0m\u001b[0mletter\u001b[0m\u001b[1;33m)\u001b[0m\u001b[1;33m\u001b[0m\u001b[1;33m\u001b[0m\u001b[0m\n\u001b[0;32m      8\u001b[0m     \u001b[0mindex\u001b[0m \u001b[1;33m=\u001b[0m \u001b[0mindex\u001b[0m \u001b[1;33m-\u001b[0m \u001b[1;36m1\u001b[0m\u001b[1;33m\u001b[0m\u001b[1;33m\u001b[0m\u001b[0m\n",
      "\u001b[1;31mIndexError\u001b[0m: string index out of range"
     ]
    }
   ],
   "source": [
    "#Exercise 1\n",
    "\n",
    "#Write a while loop that starts at the last character in the string and works its way backwards to the first character in the string,\n",
    "#printing each letter on a separate line, except backwards.\n",
    "index = -1\n",
    "while index < len(fruit):\n",
    "    letter = fruit[index]\n",
    "    print(letter)\n",
    "    index = index - 1"
   ]
  },
  {
   "attachments": {},
   "cell_type": "markdown",
   "metadata": {},
   "source": [
    "#String slices"
   ]
  },
  {
   "cell_type": "code",
   "execution_count": 73,
   "metadata": {},
   "outputs": [
    {
     "data": {
      "text/plain": [
       "'banana'"
      ]
     },
     "execution_count": 73,
     "metadata": {},
     "output_type": "execute_result"
    }
   ],
   "source": [
    "#Exercise 2\n",
    "\n",
    "#Given that fruit is a string, what does fruit[:] mean?\n",
    "fruit[:] #it prints all the characters in all the indices"
   ]
  },
  {
   "cell_type": "code",
   "execution_count": 99,
   "metadata": {},
   "outputs": [
    {
     "data": {
      "text/plain": [
       "'Jello, world'"
      ]
     },
     "execution_count": 99,
     "metadata": {},
     "output_type": "execute_result"
    }
   ],
   "source": [
    "#imutability of strings\n",
    "#concatenates a new first letter onto a slice of greeting\n",
    "greeting = \"Hello, world\"\n",
    "len(greeting)\n",
    "new_greeting = 'J' + greeting[1:]\n",
    "new_greeting"
   ]
  },
  {
   "attachments": {},
   "cell_type": "markdown",
   "metadata": {},
   "source": [
    "Loooping and Counting"
   ]
  },
  {
   "cell_type": "code",
   "execution_count": 7,
   "metadata": {},
   "outputs": [
    {
     "name": "stdout",
     "output_type": "stream",
     "text": [
      "2\n"
     ]
    }
   ],
   "source": [
    "#counter\n",
    "word = 'banana'\n",
    "count = 0   #variable count initialized to 0\n",
    "for letter in word:\n",
    "    if letter == 'n':\n",
    "        count = count + 1 #count incremented each time \"a\" is found\n",
    "print(count)"
   ]
  },
  {
   "cell_type": "code",
   "execution_count": 8,
   "metadata": {},
   "outputs": [
    {
     "name": "stdout",
     "output_type": "stream",
     "text": [
      "2\n"
     ]
    }
   ],
   "source": [
    "#Exercise 3\n",
    " \n",
    "#Encapsulate this code in a function named count, and generalize it so that it accepts the string and the letter as arguments.\n",
    "def count(word,letter):\n",
    "    \n",
    "    count = 0\n",
    "    word = input(\"enter a word:\")\n",
    "    letter = input(\"enter a letter:\")\n",
    "    for char in word:\n",
    "        if char == letter:\n",
    "            count = count + 1\n",
    "    print(count)\n",
    "count(word,letter)"
   ]
  },
  {
   "attachments": {},
   "cell_type": "markdown",
   "metadata": {},
   "source": [
    "String comparison"
   ]
  },
  {
   "cell_type": "code",
   "execution_count": 136,
   "metadata": {},
   "outputs": [
    {
     "name": "stdout",
     "output_type": "stream",
     "text": [
      "Your word,lemon, comes after banana\n"
     ]
    }
   ],
   "source": [
    "#String comparison\n",
    "word = 'lemon'\n",
    "if word < 'banana':\n",
    "    print('Your word,' + word + ', comes before banana.')\n",
    "elif word > 'banana':\n",
    "    print('Your word,' + word + ', comes after banana')\n",
    "else:\n",
    "    print('All right, bananas.')"
   ]
  },
  {
   "attachments": {},
   "cell_type": "markdown",
   "metadata": {},
   "source": [
    "#String Methods\n",
    "\n"
   ]
  },
  {
   "cell_type": "code",
   "execution_count": 139,
   "metadata": {},
   "outputs": [
    {
     "data": {
      "text/plain": [
       "'BANANA'"
      ]
     },
     "execution_count": 139,
     "metadata": {},
     "output_type": "execute_result"
    }
   ],
   "source": [
    "#string method 'upper'\n",
    "word = 'banana'\n",
    "new_word = word.upper()\n",
    "new_word"
   ]
  },
  {
   "cell_type": "code",
   "execution_count": 141,
   "metadata": {},
   "outputs": [
    {
     "name": "stdout",
     "output_type": "stream",
     "text": [
      "2\n"
     ]
    }
   ],
   "source": [
    "#string method 'find'\n",
    "word = 'banana'\n",
    "index = word.find('n')\n",
    "print(index)"
   ]
  },
  {
   "cell_type": "code",
   "execution_count": 142,
   "metadata": {},
   "outputs": [
    {
     "data": {
      "text/plain": [
       "'here we go'"
      ]
     },
     "execution_count": 142,
     "metadata": {},
     "output_type": "execute_result"
    }
   ],
   "source": [
    "#string method 'strip'ArithmeticError\n",
    "line = ' here we go  '\n",
    "line.strip() #removes the whitespaces"
   ]
  },
  {
   "cell_type": "code",
   "execution_count": 11,
   "metadata": {},
   "outputs": [
    {
     "data": {
      "text/plain": [
       "3"
      ]
     },
     "execution_count": 11,
     "metadata": {},
     "output_type": "execute_result"
    }
   ],
   "source": [
    "#Exercise 4: There is a string method called count that is similar to\n",
    "#the function in the previous exercise. Read the documentation of this\n",
    "#method at:\n",
    "#https://docs.python.org/library/stdtypes.html#string-methods\n",
    "#Write an invocation that counts the number of times the letter a occurs\n",
    "#in “banana”.\n",
    "\n",
    "\n",
    "word = 'banana' #assign the string 'banana' to a variable named 'word'\n",
    "count = word.count('a') #function __.count() enumerates the number of times letter 'a' appears on the string banana\n",
    "count"
   ]
  },
  {
   "cell_type": "code",
   "execution_count": 149,
   "metadata": {},
   "outputs": [
    {
     "data": {
      "text/plain": [
       "0.8475"
      ]
     },
     "execution_count": 149,
     "metadata": {},
     "output_type": "execute_result"
    }
   ],
   "source": [
    "#Exercise 5: Take the following Python code that stores a string:\n",
    "#str = 'X-DSPAM-Confidence:0.8475'\n",
    "#Use find and string slicing to extract the portion of the string after the\n",
    "#colon character and then use the float function to convert the extracted\n",
    "#string into a floating point number.\n",
    "str = 'X-DSPAM-Confidence:0.8475'\n",
    "position = str.find(':')\n",
    "position\n",
    "extract = str[position + 1:]\n",
    "float(extract)"
   ]
  },
  {
   "cell_type": "code",
   "execution_count": 44,
   "metadata": {},
   "outputs": [
    {
     "name": "stdout",
     "output_type": "stream",
     "text": [
      "Good afternoon python\n",
      "Good afternoon Python\n",
      "I like coding in Python\n"
     ]
    }
   ],
   "source": [
    "#Exercise 6: Read the documentation of the string methods at\n",
    "#https://docs.python.org/library/stdtypes.html#string-methods You\n",
    "#might want to experiment with some of them to make sure you\n",
    "#understand how they work. strip and replace are particularly useful.\n",
    "\n",
    "\n",
    "#Strip method: this is used to remove whitespaces from the beginning and end of a string\n",
    "text = \"    Good afternoon python   \"\n",
    "new_text = text.strip() #removes whitespaces at the beginnning and at the end\n",
    "print(new_text)\n",
    "\n",
    "#One can also highlight specific characters to be removed \n",
    "text1 = \"@@@@Good afternoon Python!!!!\"\n",
    "new_text1 = text1.strip(\"@,!\")\n",
    "print(new_text1)\n",
    "\n",
    "\n",
    "#replace method: it is used to replace occurences of a specific substring within a string with another substring\n",
    "text = \"I like coding in C\"\n",
    "new_text = text.replace(\"C\",\"Python\") #replaces the 'C' with 'Python'\n",
    "print(new_text)"
   ]
  },
  {
   "attachments": {},
   "cell_type": "markdown",
   "metadata": {},
   "source": [
    "Chapman & Hall/CRC\n",
    "\n",
    "\n",
    "A FIRST COURSE IN MACHINE LEARNING (2nd edition)"
   ]
  },
  {
   "cell_type": "code",
   "execution_count": 24,
   "metadata": {},
   "outputs": [],
   "source": [
    "#Linear regression\n",
    "#Least Squares Method\n",
    "#verifying the fit obtained in equation 1.11 of above textbook\n",
    "import pandas as pd\n",
    "import numpy as np\n",
    "import matplotlib.pyplot as plt\n",
    "import seaborn as sns\n",
    "from scipy.stats import linregress\n"
   ]
  },
  {
   "cell_type": "code",
   "execution_count": 7,
   "metadata": {},
   "outputs": [
    {
     "data": {
      "text/html": [
       "<div>\n",
       "<style scoped>\n",
       "    .dataframe tbody tr th:only-of-type {\n",
       "        vertical-align: middle;\n",
       "    }\n",
       "\n",
       "    .dataframe tbody tr th {\n",
       "        vertical-align: top;\n",
       "    }\n",
       "\n",
       "    .dataframe thead th {\n",
       "        text-align: right;\n",
       "    }\n",
       "</style>\n",
       "<table border=\"1\" class=\"dataframe\">\n",
       "  <thead>\n",
       "    <tr style=\"text-align: right;\">\n",
       "      <th></th>\n",
       "      <th>Year</th>\n",
       "      <th>Time(seconds)</th>\n",
       "    </tr>\n",
       "  </thead>\n",
       "  <tbody>\n",
       "    <tr>\n",
       "      <th>0</th>\n",
       "      <td>1896</td>\n",
       "      <td>12.00</td>\n",
       "    </tr>\n",
       "    <tr>\n",
       "      <th>1</th>\n",
       "      <td>1900</td>\n",
       "      <td>11.00</td>\n",
       "    </tr>\n",
       "    <tr>\n",
       "      <th>2</th>\n",
       "      <td>1904</td>\n",
       "      <td>11.00</td>\n",
       "    </tr>\n",
       "    <tr>\n",
       "      <th>3</th>\n",
       "      <td>1906</td>\n",
       "      <td>11.20</td>\n",
       "    </tr>\n",
       "    <tr>\n",
       "      <th>4</th>\n",
       "      <td>1908</td>\n",
       "      <td>10.80</td>\n",
       "    </tr>\n",
       "    <tr>\n",
       "      <th>5</th>\n",
       "      <td>1912</td>\n",
       "      <td>10.80</td>\n",
       "    </tr>\n",
       "    <tr>\n",
       "      <th>6</th>\n",
       "      <td>1920</td>\n",
       "      <td>10.80</td>\n",
       "    </tr>\n",
       "    <tr>\n",
       "      <th>7</th>\n",
       "      <td>1924</td>\n",
       "      <td>10.60</td>\n",
       "    </tr>\n",
       "    <tr>\n",
       "      <th>8</th>\n",
       "      <td>1928</td>\n",
       "      <td>10.80</td>\n",
       "    </tr>\n",
       "    <tr>\n",
       "      <th>9</th>\n",
       "      <td>1932</td>\n",
       "      <td>10.30</td>\n",
       "    </tr>\n",
       "    <tr>\n",
       "      <th>10</th>\n",
       "      <td>1936</td>\n",
       "      <td>10.30</td>\n",
       "    </tr>\n",
       "    <tr>\n",
       "      <th>11</th>\n",
       "      <td>1948</td>\n",
       "      <td>10.30</td>\n",
       "    </tr>\n",
       "    <tr>\n",
       "      <th>12</th>\n",
       "      <td>1952</td>\n",
       "      <td>10.40</td>\n",
       "    </tr>\n",
       "    <tr>\n",
       "      <th>13</th>\n",
       "      <td>1956</td>\n",
       "      <td>10.50</td>\n",
       "    </tr>\n",
       "    <tr>\n",
       "      <th>14</th>\n",
       "      <td>1960</td>\n",
       "      <td>10.20</td>\n",
       "    </tr>\n",
       "    <tr>\n",
       "      <th>15</th>\n",
       "      <td>1964</td>\n",
       "      <td>10.00</td>\n",
       "    </tr>\n",
       "    <tr>\n",
       "      <th>16</th>\n",
       "      <td>1968</td>\n",
       "      <td>9.95</td>\n",
       "    </tr>\n",
       "    <tr>\n",
       "      <th>17</th>\n",
       "      <td>1972</td>\n",
       "      <td>10.14</td>\n",
       "    </tr>\n",
       "    <tr>\n",
       "      <th>18</th>\n",
       "      <td>1976</td>\n",
       "      <td>10.06</td>\n",
       "    </tr>\n",
       "    <tr>\n",
       "      <th>19</th>\n",
       "      <td>1980</td>\n",
       "      <td>10.25</td>\n",
       "    </tr>\n",
       "    <tr>\n",
       "      <th>20</th>\n",
       "      <td>1984</td>\n",
       "      <td>9.99</td>\n",
       "    </tr>\n",
       "    <tr>\n",
       "      <th>21</th>\n",
       "      <td>1988</td>\n",
       "      <td>9.92</td>\n",
       "    </tr>\n",
       "    <tr>\n",
       "      <th>22</th>\n",
       "      <td>1992</td>\n",
       "      <td>9.96</td>\n",
       "    </tr>\n",
       "    <tr>\n",
       "      <th>23</th>\n",
       "      <td>1996</td>\n",
       "      <td>9.84</td>\n",
       "    </tr>\n",
       "    <tr>\n",
       "      <th>24</th>\n",
       "      <td>2000</td>\n",
       "      <td>9.87</td>\n",
       "    </tr>\n",
       "    <tr>\n",
       "      <th>25</th>\n",
       "      <td>2004</td>\n",
       "      <td>9.85</td>\n",
       "    </tr>\n",
       "    <tr>\n",
       "      <th>26</th>\n",
       "      <td>2008</td>\n",
       "      <td>9.69</td>\n",
       "    </tr>\n",
       "  </tbody>\n",
       "</table>\n",
       "</div>"
      ],
      "text/plain": [
       "    Year  Time(seconds)\n",
       "0   1896          12.00\n",
       "1   1900          11.00\n",
       "2   1904          11.00\n",
       "3   1906          11.20\n",
       "4   1908          10.80\n",
       "5   1912          10.80\n",
       "6   1920          10.80\n",
       "7   1924          10.60\n",
       "8   1928          10.80\n",
       "9   1932          10.30\n",
       "10  1936          10.30\n",
       "11  1948          10.30\n",
       "12  1952          10.40\n",
       "13  1956          10.50\n",
       "14  1960          10.20\n",
       "15  1964          10.00\n",
       "16  1968           9.95\n",
       "17  1972          10.14\n",
       "18  1976          10.06\n",
       "19  1980          10.25\n",
       "20  1984           9.99\n",
       "21  1988           9.92\n",
       "22  1992           9.96\n",
       "23  1996           9.84\n",
       "24  2000           9.87\n",
       "25  2004           9.85\n",
       "26  2008           9.69"
      ]
     },
     "execution_count": 7,
     "metadata": {},
     "output_type": "execute_result"
    }
   ],
   "source": [
    "data = pd.read_csv(\"Olympic men's 100M.csv\")\n",
    "data"
   ]
  },
  {
   "cell_type": "code",
   "execution_count": 14,
   "metadata": {},
   "outputs": [
    {
     "data": {
      "text/plain": [
       "array([1896, 1900, 1904, 1906, 1908, 1912, 1920, 1924, 1928, 1932, 1936,\n",
       "       1948, 1952, 1956, 1960, 1964, 1968, 1972, 1976, 1980, 1984, 1988,\n",
       "       1992, 1996, 2000, 2004, 2008], dtype=int64)"
      ]
     },
     "execution_count": 14,
     "metadata": {},
     "output_type": "execute_result"
    }
   ],
   "source": [
    "#extracting the features\n",
    "time = data['Time(seconds)'].values\n",
    "time\n",
    "year = data['Year'].values\n",
    "year"
   ]
  },
  {
   "cell_type": "code",
   "execution_count": 20,
   "metadata": {},
   "outputs": [],
   "source": [
    "#converting the features into numpy arrays\n",
    "y = np.array(time)\n",
    "x = np.array(year)"
   ]
  },
  {
   "cell_type": "code",
   "execution_count": 42,
   "metadata": {},
   "outputs": [
    {
     "name": "stdout",
     "output_type": "stream",
     "text": [
      "Regression line of y on x:\n",
      "y = -0.0133x + 36.4165\n"
     ]
    }
   ],
   "source": [
    "# Performing linear regression\n",
    "slope, intercept, r_value, p_value, std_err = linregress(x, y)\n",
    "#linregress(x, y) = std_err, p_value, r_value,intercept,slope\n",
    "print(\"Regression line of y on x:\")\n",
    "print(f\"y = {slope:.4f}x + {intercept:.4f}\") #prints the linear regression equation\n"
   ]
  }
 ],
 "metadata": {
  "kernelspec": {
   "display_name": "base",
   "language": "python",
   "name": "python3"
  },
  "language_info": {
   "codemirror_mode": {
    "name": "ipython",
    "version": 3
   },
   "file_extension": ".py",
   "mimetype": "text/x-python",
   "name": "python",
   "nbconvert_exporter": "python",
   "pygments_lexer": "ipython3",
   "version": "3.9.13"
  },
  "orig_nbformat": 4
 },
 "nbformat": 4,
 "nbformat_minor": 2
}
